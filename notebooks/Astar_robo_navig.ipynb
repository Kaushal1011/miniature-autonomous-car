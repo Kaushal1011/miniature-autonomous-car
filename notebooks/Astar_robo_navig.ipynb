{
 "cells": [
  {
   "cell_type": "code",
   "execution_count": 142,
   "id": "ae19bec8",
   "metadata": {},
   "outputs": [],
   "source": [
    "import matplotlib.pyplot as plt\n",
    "import matplotlib.image as mpimg\n",
    "import numpy as np"
   ]
  },
  {
   "cell_type": "markdown",
   "id": "064e99a7",
   "metadata": {},
   "source": [
    "# Path Map"
   ]
  },
  {
   "cell_type": "code",
   "execution_count": 143,
   "id": "a44800eb",
   "metadata": {},
   "outputs": [
    {
     "data": {
      "image/png": "[encoded data removed]",
      "text/plain": [
       "<Figure size 432x288 with 1 Axes>"
      ]
     },
     "metadata": {
      "needs_background": "light"
     },
     "output_type": "display_data"
    }
   ],
   "source": [
    "import cv2\n",
    "fn = 'navigation.png'\n",
    "img1 = cv2.imread(fn, cv2.IMREAD_GRAYSCALE)\n",
    "imgplot1 = plt.imshow(img1,cmap=\"gray\")\n",
    "plt.show()"
   ]
  },
  {
   "cell_type": "code",
   "execution_count": 144,
   "id": "add92375",
   "metadata": {},
   "outputs": [
    {
     "data": {
      "text/plain": [
       "(30, 30)"
      ]
     },
     "execution_count": 144,
     "metadata": {},
     "output_type": "execute_result"
    }
   ],
   "source": [
    "val_arr1=np.array(img1)\n",
    "val_arr1.shape"
   ]
  },
  {
   "cell_type": "markdown",
   "id": "d56c2968",
   "metadata": {},
   "source": [
    "# Goal: To go from (0,30) to (30,0)"
   ]
  },
  {
   "cell_type": "markdown",
   "id": "85a6439d",
   "metadata": {},
   "source": [
    "## We will use informed Astar search to find the path"
   ]
  },
  {
   "cell_type": "markdown",
   "id": "c51a6e63",
   "metadata": {},
   "source": [
    "__note: lets threshold the image for easy coding__"
   ]
  },
  {
   "cell_type": "code",
   "execution_count": 145,
   "id": "f7b7b761",
   "metadata": {},
   "outputs": [],
   "source": [
    "blocked=[]\n",
    "for i in range(val_arr1.shape[0]):\n",
    "    for j in range(val_arr1.shape[1]):\n",
    "        if val_arr1[i][j]>200:\n",
    "            val_arr1[i][j]=1\n",
    "        else:\n",
    "            val_arr1[i][j]=0\n",
    "            blocked.append((i,j))"
   ]
  },
  {
   "cell_type": "code",
   "execution_count": 146,
   "id": "78e40eaa",
   "metadata": {},
   "outputs": [
    {
     "data": {
      "text/plain": [
       "<matplotlib.image.AxesImage at 0x27804902548>"
      ]
     },
     "execution_count": 146,
     "metadata": {},
     "output_type": "execute_result"
    },
    {
     "data": {
      "image/png": "[encoded data removed]",
      "text/plain": [
       "<Figure size 432x288 with 1 Axes>"
      ]
     },
     "metadata": {
      "needs_background": "light"
     },
     "output_type": "display_data"
    }
   ],
   "source": [
    "plt.imshow(val_arr1,cmap=\"gray\")"
   ]
  },
  {
   "cell_type": "markdown",
   "id": "d184f0bc",
   "metadata": {},
   "source": [
    "## Let's create some helper functions"
   ]
  },
  {
   "cell_type": "code",
   "execution_count": 316,
   "id": "dcbbcdaf",
   "metadata": {},
   "outputs": [],
   "source": [
    "def determine(x,maxlenx,maxleny):\n",
    "    \"\"\"Keep robot within maze\"\"\"\n",
    "    if x[0]<0 or x[0]>=maxlenx or x[1]<0 or x[1]>=maxleny:\n",
    "        return True\n",
    "    else:\n",
    "        return False\n",
    "\n",
    "\n",
    "def next_states(imgin,i,j,maxlenx,maxleny):\n",
    "    poss_n=[((i+1,j),1),((i,j+1),1),((i+1,j+1),1.41),((i-1,j-1),1.41),((i-1,j),1),((i,j-1),1),((i-1,j+1),1.41),((i+1,j-1),1.41)]\n",
    "    poss_n=[x for x in poss_n if not determine(x[0],maxlenx,maxleny)]\n",
    "    return [x for x in poss_n if imgin[x[0][0]][x[0][1]]==1]\n",
    "\n",
    "def eucliden_distance(p1,p2):\n",
    "    return ((p1[0]-p2[0])**2+(p1[1]-p2[1])**2)**0.5\n",
    "\n",
    "def manhatten_distance(p1,p2):\n",
    "    return abs(p1[0]-p2[0])+abs(p1[1]-p2[1])\n",
    "\n",
    "def step(p1,p2):\n",
    "    x=p1[0]\n",
    "    y=p1[1]\n",
    "    if (p2[0]-p1[0]==2):\n",
    "        x=p1[0]+1\n",
    "    if (p2[0]-p1[0]==-2):\n",
    "        x=p1[0]-1\n",
    "    if (p2[1]-p1[1]==2):\n",
    "        y=p1[1]+1\n",
    "    if (p2[1]-p1[1]==-2):\n",
    "        y=p1[1]-1\n",
    "    return x,y"
   ]
  },
  {
   "cell_type": "markdown",
   "id": "7955e7a7",
   "metadata": {},
   "source": [
    "## AStar Informed Search"
   ]
  },
  {
   "cell_type": "code",
   "execution_count": 339,
   "id": "0779b2e5",
   "metadata": {},
   "outputs": [],
   "source": [
    "def search(maze,start,end,solver=manhatten_distance):\n",
    "    \n",
    "    start=(start[1],start[0])\n",
    "    end=(end[1],end[0])\n",
    "    # maintain a list of visited nodes\n",
    "    visited=[start]\n",
    "    # path to be returned\n",
    "    path=[]\n",
    "    cur=start\n",
    "    # total actual cost\n",
    "    totprevcost=0\n",
    "    # iteration\n",
    "    while True:\n",
    "        path.append(cur)\n",
    "        #goal state\n",
    "        if cur==end:\n",
    "            break\n",
    "        # to select best next state\n",
    "        frontier=[]\n",
    "        # iteration on all connected nodes to current node\n",
    "        for node,stepcost in next_states(maze,cur[0],cur[1],maze.shape[0],maze.shape[1]):\n",
    "#             print(node,end=' ')\n",
    "            if node not in visited:\n",
    "            # full cost calculation\n",
    "            # step cost is 1\n",
    "            # f(n) = g(n) + h(n)\n",
    "                fcost=totprevcost+stepcost+solver(node,end)\n",
    "                frontier.append((node,fcost,stepcost))\n",
    "                visited.append(node)\n",
    "            # finding the smallest full cost for all connected nodes\n",
    "        frontier.sort(key=lambda x:x[1])\n",
    "#         print(frontier)\n",
    "            # selecting smallest full cost node as the next node on path\n",
    "#         print(frontier)\n",
    "        if not frontier:\n",
    "            print(\"deadlocked on corner\")\n",
    "            return path,totprevcost\n",
    "        cur = frontier[0][0]\n",
    "#         cur=step(cur,new_pos)\n",
    "        \n",
    "        totprevcost+=frontier[0][2]\n",
    "#         print(path)\n",
    "    return path,totprevcost"
   ]
  },
  {
   "cell_type": "code",
   "execution_count": 340,
   "id": "88ebf1ef",
   "metadata": {},
   "outputs": [],
   "source": [
    "path=search(val_arr1,(5,0),(15,20))[0]"
   ]
  },
  {
   "cell_type": "code",
   "execution_count": 341,
   "id": "28e2a78a",
   "metadata": {},
   "outputs": [
    {
     "data": {
      "text/plain": [
       "[((0, 1), 1)]"
      ]
     },
     "execution_count": 341,
     "metadata": {},
     "output_type": "execute_result"
    }
   ],
   "source": [
    "next_states(val_arr1,0,0,val_arr1.shape[0],val_arr1.shape[1])"
   ]
  },
  {
   "cell_type": "code",
   "execution_count": 342,
   "id": "69a63447",
   "metadata": {},
   "outputs": [
    {
     "data": {
      "text/plain": [
       "1.4142135623730951"
      ]
     },
     "execution_count": 342,
     "metadata": {},
     "output_type": "execute_result"
    }
   ],
   "source": [
    "eucliden_distance((0,0),(1,1))"
   ]
  },
  {
   "cell_type": "code",
   "execution_count": 343,
   "id": "fd6e0360",
   "metadata": {},
   "outputs": [
    {
     "data": {
      "text/plain": [
       "1"
      ]
     },
     "execution_count": 343,
     "metadata": {},
     "output_type": "execute_result"
    }
   ],
   "source": [
    "val_arr1[0][29]"
   ]
  },
  {
   "cell_type": "code",
   "execution_count": 344,
   "id": "dad85f4b",
   "metadata": {},
   "outputs": [
    {
     "data": {
      "image/png": "[encoded data removed]",
      "text/plain": [
       "<Figure size 432x288 with 1 Axes>"
      ]
     },
     "metadata": {
      "needs_background": "light"
     },
     "output_type": "display_data"
    }
   ],
   "source": [
    "#since we have 3 patches\n",
    "x1=[x[0] for x in path]\n",
    "y1=[x[1] for x in path]\n",
    "x2=[x[0] for x in blocked]\n",
    "y2=[x[1] for x in blocked]\n",
    "plt.scatter(y1,x1)\n",
    "plt.scatter(y2,x2)\n",
    "\n",
    "plt.xlim(0, 29)\n",
    "plt.ylim(0, 29)\n",
    "# plt.gca().invert_yaxis()\n",
    "# plt.gca().invert_xaxis()\n",
    "plt.title(\"Found Path\")\n",
    "plt.show()\n"
   ]
  },
  {
   "cell_type": "code",
   "execution_count": 345,
   "id": "a3dbe622",
   "metadata": {},
   "outputs": [
    {
     "data": {
      "text/plain": [
       "[(0, 5),\n",
       " (1, 6),\n",
       " (2, 7),\n",
       " (3, 8),\n",
       " (4, 9),\n",
       " (5, 10),\n",
       " (6, 10),\n",
       " (7, 10),\n",
       " (8, 11),\n",
       " (9, 12),\n",
       " (10, 13),\n",
       " (11, 14),\n",
       " (12, 15),\n",
       " (13, 15),\n",
       " (14, 15),\n",
       " (15, 15),\n",
       " (16, 15),\n",
       " (17, 15),\n",
       " (18, 15),\n",
       " (19, 15),\n",
       " (20, 15)]"
      ]
     },
     "execution_count": 345,
     "metadata": {},
     "output_type": "execute_result"
    }
   ],
   "source": [
    "path"
   ]
  },
  {
   "cell_type": "code",
   "execution_count": 351,
   "id": "69df55b2",
   "metadata": {},
   "outputs": [
    {
     "data": {
      "image/png": "[encoded data removed]",
      "text/plain": [
       "<Figure size 432x288 with 1 Axes>"
      ]
     },
     "metadata": {
      "needs_background": "light"
     },
     "output_type": "display_data"
    }
   ],
   "source": [
    "path=search(val_arr1,(5,0),(25,20))[0]\n",
    "#since we have 3 patches\n",
    "x1=[x[0] for x in path]\n",
    "y1=[x[1] for x in path]\n",
    "x2=[x[0] for x in blocked]\n",
    "y2=[x[1] for x in blocked]\n",
    "plt.scatter(y1,x1)\n",
    "plt.scatter(y2,x2)\n",
    "\n",
    "plt.xlim(0, 29)\n",
    "plt.ylim(0, 29)\n",
    "# plt.gca().invert_yaxis()\n",
    "# plt.gca().invert_xaxis()\n",
    "plt.title(\"Found Path\")\n",
    "plt.show()"
   ]
  },
  {
   "cell_type": "code",
   "execution_count": 352,
   "id": "057672e9",
   "metadata": {},
   "outputs": [
    {
     "data": {
      "image/png": "[encoded data removed]",
      "text/plain": [
       "<Figure size 432x288 with 1 Axes>"
      ]
     },
     "metadata": {
      "needs_background": "light"
     },
     "output_type": "display_data"
    }
   ],
   "source": [
    "path=search(val_arr1,(29,0),(0,29))[0]\n",
    "#since we have 3 patches\n",
    "x1=[x[0] for x in path]\n",
    "y1=[x[1] for x in path]\n",
    "x2=[x[0] for x in blocked]\n",
    "y2=[x[1] for x in blocked]\n",
    "plt.scatter(y1,x1)\n",
    "plt.scatter(y2,x2)\n",
    "\n",
    "plt.xlim(0, 29)\n",
    "plt.ylim(0, 29)\n",
    "# plt.gca().invert_yaxis()\n",
    "# plt.gca().invert_xaxis()\n",
    "plt.title(\"Found Path\")\n",
    "plt.show()"
   ]
  },
  {
   "cell_type": "code",
   "execution_count": 353,
   "id": "e997331d",
   "metadata": {},
   "outputs": [
    {
     "data": {
      "image/png": "[encoded data removed]",
      "text/plain": [
       "<Figure size 432x288 with 1 Axes>"
      ]
     },
     "metadata": {
      "needs_background": "light"
     },
     "output_type": "display_data"
    }
   ],
   "source": [
    "path=search(val_arr1,(0,29),(29,20))[0]\n",
    "#since we have 3 patches\n",
    "x1=[x[0] for x in path]\n",
    "y1=[x[1] for x in path]\n",
    "x2=[x[0] for x in blocked]\n",
    "y2=[x[1] for x in blocked]\n",
    "plt.scatter(y1,x1)\n",
    "plt.scatter(y2,x2)\n",
    "\n",
    "plt.xlim(0, 29)\n",
    "plt.ylim(0, 29)\n",
    "# plt.gca().invert_yaxis()\n",
    "# plt.gca().invert_xaxis()\n",
    "plt.title(\"Found Path\")\n",
    "plt.show()"
   ]
  },
  {
   "cell_type": "code",
   "execution_count": 354,
   "id": "a30c42c9",
   "metadata": {},
   "outputs": [
    {
     "data": {
      "image/png": "[encoded data removed]",
      "text/plain": [
       "<Figure size 432x288 with 1 Axes>"
      ]
     },
     "metadata": {
      "needs_background": "light"
     },
     "output_type": "display_data"
    }
   ],
   "source": [
    "path=search(val_arr1,(0,29),(29,0))[0]\n",
    "#since we have 3 patches\n",
    "x1=[x[0] for x in path]\n",
    "y1=[x[1] for x in path]\n",
    "x2=[x[0] for x in blocked]\n",
    "y2=[x[1] for x in blocked]\n",
    "plt.scatter(y1,x1)\n",
    "plt.scatter(y2,x2)\n",
    "\n",
    "plt.xlim(0, 29)\n",
    "plt.ylim(0, 29)\n",
    "# plt.gca().invert_yaxis()\n",
    "# plt.gca().invert_xaxis()\n",
    "plt.title(\"Found Path\")\n",
    "plt.show()"
   ]
  }
 ],
 "metadata": {
  "kernelspec": {
   "display_name": "Python 3",
   "language": "python",
   "name": "python3"
  },
  "language_info": {
   "codemirror_mode": {
    "name": "ipython",
    "version": 3
   },
   "file_extension": ".py",
   "mimetype": "text/x-python",
   "name": "python",
   "nbconvert_exporter": "python",
   "pygments_lexer": "ipython3",
   "version": "3.7.7"
  }
 },
 "nbformat": 4,
 "nbformat_minor": 5
}
